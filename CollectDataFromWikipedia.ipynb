{
 "cells": [
  {
   "cell_type": "markdown",
   "metadata": {},
   "source": [
    "<p style=\"text-align:center\">\n",
    "    <a href=\"https://skills.network\" target=\"_blank\">\n",
    "    <img src=\"https://cf-courses-data.s3.us.cloud-object-storage.appdomain.cloud/assets/logos/SN_web_lightmode.png\" width=\"200\" alt=\"Skills Network Logo\">\n",
    "    </a>\n",
    "</p>\n"
   ]
  },
  {
   "cell_type": "markdown",
   "metadata": {},
   "source": [
    "# **Space X  Falcon 9 First Stage Landing Prediction**\n"
   ]
  },
  {
   "cell_type": "markdown",
   "metadata": {},
   "source": [
    "## Web scraping Falcon 9 and Falcon Heavy Launches Records from Wikipedia\n"
   ]
  },
  {
   "cell_type": "markdown",
   "metadata": {},
   "source": [
    "Estimated time needed: **40** minutes\n"
   ]
  },
  {
   "cell_type": "markdown",
   "metadata": {},
   "source": [
    "In this lab, you will be performing web scraping to collect Falcon 9 historical launch records from a Wikipedia page titled `List of Falcon 9 and Falcon Heavy launches`\n",
    "\n",
    "https://en.wikipedia.org/wiki/List_of_Falcon_9_and_Falcon_Heavy_launches\n"
   ]
  },
  {
   "cell_type": "markdown",
   "metadata": {},
   "source": [
    "![](https://cf-courses-data.s3.us.cloud-object-storage.appdomain.cloud/IBM-DS0321EN-SkillsNetwork/labs/module_1_L2/images/Falcon9_rocket_family.svg)\n"
   ]
  },
  {
   "cell_type": "markdown",
   "metadata": {},
   "source": [
    "Falcon 9 first stage will land successfully\n"
   ]
  },
  {
   "cell_type": "markdown",
   "metadata": {},
   "source": [
    "![](https://cf-courses-data.s3.us.cloud-object-storage.appdomain.cloud/IBMDeveloperSkillsNetwork-DS0701EN-SkillsNetwork/api/Images/landing_1.gif)\n"
   ]
  },
  {
   "cell_type": "markdown",
   "metadata": {},
   "source": [
    "Several examples of an unsuccessful landing are shown here:\n"
   ]
  },
  {
   "cell_type": "markdown",
   "metadata": {},
   "source": [
    "![](https://cf-courses-data.s3.us.cloud-object-storage.appdomain.cloud/IBMDeveloperSkillsNetwork-DS0701EN-SkillsNetwork/api/Images/crash.gif)\n"
   ]
  },
  {
   "cell_type": "markdown",
   "metadata": {},
   "source": [
    "More specifically, the launch records are stored in a HTML table shown below:\n"
   ]
  },
  {
   "cell_type": "markdown",
   "metadata": {},
   "source": [
    "![](https://cf-courses-data.s3.us.cloud-object-storage.appdomain.cloud/IBM-DS0321EN-SkillsNetwork/labs/module_1_L2/images/falcon9-launches-wiki.png)\n"
   ]
  },
  {
   "cell_type": "markdown",
   "metadata": {},
   "source": [
    "  ## Objectives\n",
    "Web scrap Falcon 9 launch records with `BeautifulSoup`: \n",
    "- Extract a Falcon 9 launch records HTML table from Wikipedia\n",
    "- Parse the table and convert it into a Pandas data frame\n"
   ]
  },
  {
   "cell_type": "markdown",
   "metadata": {},
   "source": [
    "First let's import required packages for this lab\n"
   ]
  },
  {
   "cell_type": "code",
   "execution_count": 1,
   "metadata": {
    "tags": []
   },
   "outputs": [
    {
     "name": "stdout",
     "output_type": "stream",
     "text": [
      "Requirement already satisfied: beautifulsoup4 in /home/jupyterlab/conda/envs/python/lib/python3.7/site-packages (4.11.1)\n",
      "Requirement already satisfied: soupsieve>1.2 in /home/jupyterlab/conda/envs/python/lib/python3.7/site-packages (from beautifulsoup4) (2.3.2.post1)\n",
      "Requirement already satisfied: requests in /home/jupyterlab/conda/envs/python/lib/python3.7/site-packages (2.29.0)\n",
      "Requirement already satisfied: charset-normalizer<4,>=2 in /home/jupyterlab/conda/envs/python/lib/python3.7/site-packages (from requests) (3.1.0)\n",
      "Requirement already satisfied: idna<4,>=2.5 in /home/jupyterlab/conda/envs/python/lib/python3.7/site-packages (from requests) (3.4)\n",
      "Requirement already satisfied: urllib3<1.27,>=1.21.1 in /home/jupyterlab/conda/envs/python/lib/python3.7/site-packages (from requests) (1.26.15)\n",
      "Requirement already satisfied: certifi>=2017.4.17 in /home/jupyterlab/conda/envs/python/lib/python3.7/site-packages (from requests) (2023.5.7)\n"
     ]
    }
   ],
   "source": [
    "!pip3 install beautifulsoup4\n",
    "!pip3 install requests"
   ]
  },
  {
   "cell_type": "code",
   "execution_count": 2,
   "metadata": {
    "tags": []
   },
   "outputs": [],
   "source": [
    "import sys\n",
    "\n",
    "import requests\n",
    "from bs4 import BeautifulSoup\n",
    "import re\n",
    "import unicodedata\n",
    "import pandas as pd"
   ]
  },
  {
   "cell_type": "markdown",
   "metadata": {},
   "source": [
    "and we will provide some helper functions for you to process web scraped HTML table\n"
   ]
  },
  {
   "cell_type": "code",
   "execution_count": 3,
   "metadata": {
    "tags": []
   },
   "outputs": [],
   "source": [
    "def date_time(table_cells):\n",
    "    \"\"\"\n",
    "    This function returns the data and time from the HTML  table cell\n",
    "    Input: the  element of a table data cell extracts extra row\n",
    "    \"\"\"\n",
    "    return [data_time.strip() for data_time in list(table_cells.strings)][0:2]\n",
    "\n",
    "def booster_version(table_cells):\n",
    "    \"\"\"\n",
    "    This function returns the booster version from the HTML  table cell \n",
    "    Input: the  element of a table data cell extracts extra row\n",
    "    \"\"\"\n",
    "    out=''.join([booster_version for i,booster_version in enumerate( table_cells.strings) if i%2==0][0:-1])\n",
    "    return out\n",
    "\n",
    "def landing_status(table_cells):\n",
    "    \"\"\"\n",
    "    This function returns the landing status from the HTML table cell \n",
    "    Input: the  element of a table data cell extracts extra row\n",
    "    \"\"\"\n",
    "    out=[i for i in table_cells.strings][0]\n",
    "    return out\n",
    "\n",
    "\n",
    "def get_mass(table_cells):\n",
    "    mass=unicodedata.normalize(\"NFKD\", table_cells.text).strip()\n",
    "    if mass:\n",
    "        mass.find(\"kg\")\n",
    "        new_mass=mass[0:mass.find(\"kg\")+2]\n",
    "    else:\n",
    "        new_mass=0\n",
    "    return new_mass\n",
    "\n",
    "\n",
    "def extract_column_from_header(row):\n",
    "    \"\"\"\n",
    "    This function returns the landing status from the HTML table cell \n",
    "    Input: the  element of a table data cell extracts extra row\n",
    "    \"\"\"\n",
    "    if (row.br):\n",
    "        row.br.extract()\n",
    "    if row.a:\n",
    "        row.a.extract()\n",
    "    if row.sup:\n",
    "        row.sup.extract()\n",
    "        \n",
    "    colunm_name = ' '.join(row.contents)\n",
    "    \n",
    "    # Filter the digit and empty names\n",
    "    if not(colunm_name.strip().isdigit()):\n",
    "        colunm_name = colunm_name.strip()\n",
    "        return colunm_name    \n"
   ]
  },
  {
   "cell_type": "markdown",
   "metadata": {},
   "source": [
    "To keep the lab tasks consistent, you will be asked to scrape the data from a snapshot of the  `List of Falcon 9 and Falcon Heavy launches` Wikipage updated on\n",
    "`9th June 2021`\n"
   ]
  },
  {
   "cell_type": "code",
   "execution_count": 4,
   "metadata": {
    "tags": []
   },
   "outputs": [],
   "source": [
    "static_url = \"https://en.wikipedia.org/w/index.php?title=List_of_Falcon_9_and_Falcon_Heavy_launches&oldid=1027686922\""
   ]
  },
  {
   "cell_type": "markdown",
   "metadata": {},
   "source": [
    "Next, request the HTML page from the above URL and get a `response` object\n"
   ]
  },
  {
   "cell_type": "markdown",
   "metadata": {},
   "source": [
    "### TASK 1: Request the Falcon9 Launch Wiki page from its URL\n"
   ]
  },
  {
   "cell_type": "markdown",
   "metadata": {},
   "source": [
    "First, let's perform an HTTP GET method to request the Falcon9 Launch HTML page, as an HTTP response.\n"
   ]
  },
  {
   "cell_type": "code",
   "execution_count": 5,
   "metadata": {
    "tags": []
   },
   "outputs": [],
   "source": [
    "# use requests.get() method with the provided static_url\n",
    "# assign the response to a object\n",
    "response = requests.get(static_url)"
   ]
  },
  {
   "cell_type": "markdown",
   "metadata": {},
   "source": [
    "Create a `BeautifulSoup` object from the HTML `response`\n"
   ]
  },
  {
   "cell_type": "code",
   "execution_count": 6,
   "metadata": {
    "tags": []
   },
   "outputs": [],
   "source": [
    "# Use BeautifulSoup() to create a BeautifulSoup object from a response text content\n",
    "soup = BeautifulSoup(response.text, 'html.parser')"
   ]
  },
  {
   "cell_type": "markdown",
   "metadata": {},
   "source": [
    "Print the page title to verify if the `BeautifulSoup` object was created properly \n"
   ]
  },
  {
   "cell_type": "code",
   "execution_count": 7,
   "metadata": {
    "tags": []
   },
   "outputs": [
    {
     "data": {
      "text/plain": [
       "<title>List of Falcon 9 and Falcon Heavy launches - Wikipedia</title>"
      ]
     },
     "execution_count": 7,
     "metadata": {},
     "output_type": "execute_result"
    }
   ],
   "source": [
    "# Use soup.title attribute\n",
    "soup.title"
   ]
  },
  {
   "cell_type": "markdown",
   "metadata": {},
   "source": [
    "### TASK 2: Extract all column/variable names from the HTML table header\n"
   ]
  },
  {
   "cell_type": "markdown",
   "metadata": {},
   "source": [
    "Next, we want to collect all relevant column names from the HTML table header\n"
   ]
  },
  {
   "cell_type": "markdown",
   "metadata": {},
   "source": [
    "Let's try to find all tables on the wiki page first. If you need to refresh your memory about `BeautifulSoup`, please check the external reference link towards the end of this lab\n"
   ]
  },
  {
   "cell_type": "code",
   "execution_count": 8,
   "metadata": {
    "tags": []
   },
   "outputs": [
    {
     "data": {
      "text/plain": [
       "<table class=\"col-begin\" role=\"presentation\">\n",
       "<tbody><tr>\n",
       "<td class=\"col-break\">\n",
       "<h3><span class=\"mw-headline\" id=\"Rocket_configurations\">Rocket configurations</span></h3>\n",
       "<div class=\"chart noresize\" style=\"margin-top:1em;max-width:420px;\">\n",
       "<div style=\"position:relative;min-height:320px;min-width:420px;max-width:420px;\">\n",
       "<div style=\"float:right;position:relative;min-height:240px;min-width:320px;max-width:320px;border-left:1px black solid;border-bottom:1px black solid;\">\n",
       "<div style=\"position:absolute;left:3px;top:224px;height:15px;min-width:18px;max-width:18px;background-color:LightSteelBlue;-webkit-print-color-adjust:exact;border:1px solid LightSteelBlue;border-bottom:none;overflow:hidden;\" title=\"[[Falcon 9 v1.0]]: 2\"></div>\n",
       "<div style=\"position:absolute;left:55px;top:224px;height:15px;min-width:18px;max-width:18px;background-color:LightSteelBlue;-webkit-print-color-adjust:exact;border:1px solid LightSteelBlue;border-bottom:none;overflow:hidden;\" title=\"[[Falcon 9 v1.0]]: 2\"></div>\n",
       "<div style=\"position:absolute;left:81px;top:232px;height:7px;min-width:18px;max-width:18px;background-color:LightSteelBlue;-webkit-print-color-adjust:exact;border:1px solid LightSteelBlue;border-bottom:none;overflow:hidden;\" title=\"[[Falcon 9 v1.0]]: 1\"></div>\n",
       "<div style=\"position:absolute;left:81px;top:216px;height:15px;min-width:18px;max-width:18px;background-color:SteelBlue;-webkit-print-color-adjust:exact;border:1px solid SteelBlue;border-bottom:none;overflow:hidden;\" title=\"[[Falcon 9 v1.1]]: 2\"></div>\n",
       "<div style=\"position:absolute;left:107px;top:192px;height:47px;min-width:18px;max-width:18px;background-color:SteelBlue;-webkit-print-color-adjust:exact;border:1px solid SteelBlue;border-bottom:none;overflow:hidden;\" title=\"[[Falcon 9 v1.1]]: 6\"></div>\n",
       "<div style=\"position:absolute;left:133px;top:192px;height:47px;min-width:18px;max-width:18px;background-color:SteelBlue;-webkit-print-color-adjust:exact;border:1px solid SteelBlue;border-bottom:none;overflow:hidden;\" title=\"[[Falcon 9 v1.1]]: 6\"></div>\n",
       "<div style=\"position:absolute;left:159px;top:232px;height:7px;min-width:18px;max-width:18px;background-color:SteelBlue;-webkit-print-color-adjust:exact;border:1px solid SteelBlue;border-bottom:none;overflow:hidden;\" title=\"[[Falcon 9 v1.1]]: 1\"></div>\n",
       "<div style=\"position:absolute;left:133px;top:184px;height:7px;min-width:18px;max-width:18px;background-color:MediumBlue;-webkit-print-color-adjust:exact;border:1px solid MediumBlue;border-bottom:none;overflow:hidden;\" title=\"[[Falcon 9 Full Thrust]]: 1\"></div>\n",
       "<div style=\"position:absolute;left:159px;top:176px;height:55px;min-width:18px;max-width:18px;background-color:MediumBlue;-webkit-print-color-adjust:exact;border:1px solid MediumBlue;border-bottom:none;overflow:hidden;\" title=\"[[Falcon 9 Full Thrust]]: 7\"></div>\n",
       "<div style=\"position:absolute;left:185px;top:136px;height:103px;min-width:18px;max-width:18px;background-color:MediumBlue;-webkit-print-color-adjust:exact;border:1px solid MediumBlue;border-bottom:none;overflow:hidden;\" title=\"[[Falcon 9 Full Thrust]]: 13\"></div>\n",
       "<div style=\"position:absolute;left:211px;top:216px;height:23px;min-width:18px;max-width:18px;background-color:MediumBlue;-webkit-print-color-adjust:exact;border:1px solid MediumBlue;border-bottom:none;overflow:hidden;\" title=\"[[Falcon 9 Full Thrust]]: 3\"></div>\n",
       "<div style=\"position:absolute;left:185px;top:96px;height:39px;min-width:18px;max-width:18px;background-color:CornflowerBlue;-webkit-print-color-adjust:exact;border:1px solid CornflowerBlue;border-bottom:none;overflow:hidden;\" title=\"Falcon 9 FT (reused): 5\"></div>\n",
       "<div style=\"position:absolute;left:211px;top:160px;height:55px;min-width:18px;max-width:18px;background-color:CornflowerBlue;-webkit-print-color-adjust:exact;border:1px solid CornflowerBlue;border-bottom:none;overflow:hidden;\" title=\"Falcon 9 FT (reused): 7\"></div>\n",
       "<div style=\"position:absolute;left:211px;top:112px;height:47px;min-width:18px;max-width:18px;background-color:Teal;-webkit-print-color-adjust:exact;border:1px solid Teal;border-bottom:none;overflow:hidden;\" title=\"[[Falcon 9 Block 5]]: 6\"></div>\n",
       "<div style=\"position:absolute;left:237px;top:216px;height:23px;min-width:18px;max-width:18px;background-color:Teal;-webkit-print-color-adjust:exact;border:1px solid Teal;border-bottom:none;overflow:hidden;\" title=\"[[Falcon 9 Block 5]]: 3\"></div>\n",
       "<div style=\"position:absolute;left:263px;top:200px;height:39px;min-width:18px;max-width:18px;background-color:Teal;-webkit-print-color-adjust:exact;border:1px solid Teal;border-bottom:none;overflow:hidden;\" title=\"[[Falcon 9 Block 5]]: 5\"></div>\n",
       "<div style=\"position:absolute;left:289px;top:232px;height:7px;min-width:18px;max-width:18px;background-color:Teal;-webkit-print-color-adjust:exact;border:1px solid Teal;border-bottom:none;overflow:hidden;\" title=\"[[Falcon 9 Block 5]]: 1\"></div>\n",
       "<div style=\"position:absolute;left:211px;top:80px;height:31px;min-width:18px;max-width:18px;background-color:LightSeaGreen;-webkit-print-color-adjust:exact;border:1px solid LightSeaGreen;border-bottom:none;overflow:hidden;\" title=\"Falcon 9 B5 (reused): 4\"></div>\n",
       "<div style=\"position:absolute;left:237px;top:152px;height:63px;min-width:18px;max-width:18px;background-color:LightSeaGreen;-webkit-print-color-adjust:exact;border:1px solid LightSeaGreen;border-bottom:none;overflow:hidden;\" title=\"Falcon 9 B5 (reused): 8\"></div>\n",
       "<div style=\"position:absolute;left:263px;top:32px;height:167px;min-width:18px;max-width:18px;background-color:LightSeaGreen;-webkit-print-color-adjust:exact;border:1px solid LightSeaGreen;border-bottom:none;overflow:hidden;\" title=\"Falcon 9 B5 (reused): 21\"></div>\n",
       "<div style=\"position:absolute;left:289px;top:96px;height:135px;min-width:18px;max-width:18px;background-color:LightSeaGreen;-webkit-print-color-adjust:exact;border:1px solid LightSeaGreen;border-bottom:none;overflow:hidden;\" title=\"Falcon 9 B5 (reused): 17\"></div>\n",
       "<div style=\"position:absolute;left:211px;top:72px;height:7px;min-width:18px;max-width:18px;background-color:Gold;-webkit-print-color-adjust:exact;border:1px solid Gold;border-bottom:none;overflow:hidden;\" title=\"[[Falcon Heavy]]: 1\"></div>\n",
       "<div style=\"position:absolute;left:237px;top:136px;height:15px;min-width:18px;max-width:18px;background-color:Gold;-webkit-print-color-adjust:exact;border:1px solid Gold;border-bottom:none;overflow:hidden;\" title=\"[[Falcon Heavy]]: 2\"></div>\n",
       "</div>\n",
       "<div style=\"position:absolute;height:240px;min-width:100px;max-width:100px;\">\n",
       "<div style=\"position:absolute;height=20px;text-align:right;vertical-align:middle;width:90px;top:190px;padding:0 2px\">5</div>\n",
       "<div style=\"position:absolute;height=1px;min-width:5px;top:200px;left:96px;border:1px solid black;\"></div>\n",
       "<div style=\"position:absolute;height=20px;text-align:right;vertical-align:middle;width:90px;top:150px;padding:0 2px\">10</div>\n",
       "<div style=\"position:absolute;height=1px;min-width:5px;top:160px;left:96px;border:1px solid black;\"></div>\n",
       "<div style=\"position:absolute;height=20px;text-align:right;vertical-align:middle;width:90px;top:110px;padding:0 2px\">15</div>\n",
       "<div style=\"position:absolute;height=1px;min-width:5px;top:120px;left:96px;border:1px solid black;\"></div>\n",
       "<div style=\"position:absolute;height=20px;text-align:right;vertical-align:middle;width:90px;top:70px;padding:0 2px\">20</div>\n",
       "<div style=\"position:absolute;height=1px;min-width:5px;top:80px;left:96px;border:1px solid black;\"></div>\n",
       "<div style=\"position:absolute;height=20px;text-align:right;vertical-align:middle;width:90px;top:30px;padding:0 2px\">25</div>\n",
       "<div style=\"position:absolute;height=1px;min-width:5px;top:40px;left:96px;border:1px solid black;\"></div>\n",
       "<div style=\"position:absolute;height=20px;text-align:right;vertical-align:middle;width:90px;top:-10px;padding:0 2px\">30</div>\n",
       "<div style=\"position:absolute;height=1px;min-width:5px;top:0px;left:96px;border:1px solid black;\"></div>\n",
       "</div>\n",
       "<div style=\"position:absolute;top:240px;left:100px;width:320px;\">\n",
       "<div style=\"position:absolute;left:1px;top:10px;min-width:24px;max-width:24px;text-align:center;vertical-align:top;\"><a href=\"#2010_to_2013\">'10</a></div>\n",
       "<div style=\"position:absolute;left:13px;height:10px;width:1px;border-left:1px solid black;\"></div>\n",
       "<div style=\"position:absolute;left:27px;top:10px;min-width:24px;max-width:24px;text-align:center;vertical-align:top;\"><a href=\"#2010_to_2013\">'11</a></div>\n",
       "<div style=\"position:absolute;left:39px;height:10px;width:1px;border-left:1px solid black;\"></div>\n",
       "<div style=\"position:absolute;left:53px;top:10px;min-width:24px;max-width:24px;text-align:center;vertical-align:top;\"><a href=\"#2010_to_2013\">'12</a></div>\n",
       "<div style=\"position:absolute;left:65px;height:10px;width:1px;border-left:1px solid black;\"></div>\n",
       "<div style=\"position:absolute;left:79px;top:10px;min-width:24px;max-width:24px;text-align:center;vertical-align:top;\"><a href=\"#2010_to_2013\">'13</a></div>\n",
       "<div style=\"position:absolute;left:91px;height:10px;width:1px;border-left:1px solid black;\"></div>\n",
       "<div style=\"position:absolute;left:105px;top:10px;min-width:24px;max-width:24px;text-align:center;vertical-align:top;\"><a href=\"#2014\">'14</a></div>\n",
       "<div style=\"position:absolute;left:117px;height:10px;width:1px;border-left:1px solid black;\"></div>\n",
       "<div style=\"position:absolute;left:131px;top:10px;min-width:24px;max-width:24px;text-align:center;vertical-align:top;\"><a href=\"#2015\">'15</a></div>\n",
       "<div style=\"position:absolute;left:143px;height:10px;width:1px;border-left:1px solid black;\"></div>\n",
       "<div style=\"position:absolute;left:157px;top:10px;min-width:24px;max-width:24px;text-align:center;vertical-align:top;\"><a href=\"#2016\">'16</a></div>\n",
       "<div style=\"position:absolute;left:169px;height:10px;width:1px;border-left:1px solid black;\"></div>\n",
       "<div style=\"position:absolute;left:183px;top:10px;min-width:24px;max-width:24px;text-align:center;vertical-align:top;\"><a href=\"#2017\">'17</a></div>\n",
       "<div style=\"position:absolute;left:195px;height:10px;width:1px;border-left:1px solid black;\"></div>\n",
       "<div style=\"position:absolute;left:209px;top:10px;min-width:24px;max-width:24px;text-align:center;vertical-align:top;\"><a href=\"#2018\">'18</a></div>\n",
       "<div style=\"position:absolute;left:221px;height:10px;width:1px;border-left:1px solid black;\"></div>\n",
       "<div style=\"position:absolute;left:235px;top:10px;min-width:24px;max-width:24px;text-align:center;vertical-align:top;\"><a href=\"#2019\">'19</a></div>\n",
       "<div style=\"position:absolute;left:247px;height:10px;width:1px;border-left:1px solid black;\"></div>\n",
       "<div style=\"position:absolute;left:261px;top:10px;min-width:24px;max-width:24px;text-align:center;vertical-align:top;\"><a href=\"#2020\">'20</a></div>\n",
       "<div style=\"position:absolute;left:273px;height:10px;width:1px;border-left:1px solid black;\"></div>\n",
       "<div style=\"position:absolute;left:287px;top:10px;min-width:24px;max-width:24px;text-align:center;vertical-align:top;\"><a href=\"#2021\">'21</a></div>\n",
       "<div style=\"position:absolute;left:299px;height:10px;width:1px;border-left:1px solid black;\"></div>\n",
       "</div>\n",
       "</div>\n",
       "<div>\n",
       "<ul style=\"width:100%;list-style:none;column-width:12em;\"><li><span style=\"padding:0 1em;background-color:LightSteelBlue;border:1px solid LightSteelBlue;margin-right:1em;-webkit-print-color-adjust:exact;\"> </span> <a href=\"/wiki/Falcon_9_v1.0\" title=\"Falcon 9 v1.0\">Falcon 9 v1.0</a></li>\n",
       "<li><span style=\"padding:0 1em;background-color:SteelBlue;border:1px solid SteelBlue;margin-right:1em;-webkit-print-color-adjust:exact;\"> </span> <a href=\"/wiki/Falcon_9_v1.1\" title=\"Falcon 9 v1.1\">Falcon 9 v1.1</a></li>\n",
       "<li><span style=\"padding:0 1em;background-color:MediumBlue;border:1px solid MediumBlue;margin-right:1em;-webkit-print-color-adjust:exact;\"> </span> <a href=\"/wiki/Falcon_9_Full_Thrust\" title=\"Falcon 9 Full Thrust\">Falcon 9 Full Thrust</a></li>\n",
       "<li><span style=\"padding:0 1em;background-color:CornflowerBlue;border:1px solid CornflowerBlue;margin-right:1em;-webkit-print-color-adjust:exact;\"> </span> Falcon 9 FT (reused)</li>\n",
       "<li><span style=\"padding:0 1em;background-color:Teal;border:1px solid Teal;margin-right:1em;-webkit-print-color-adjust:exact;\"> </span> <a href=\"/wiki/Falcon_9_Block_5\" title=\"Falcon 9 Block 5\">Falcon 9 Block 5</a></li>\n",
       "<li><span style=\"padding:0 1em;background-color:LightSeaGreen;border:1px solid LightSeaGreen;margin-right:1em;-webkit-print-color-adjust:exact;\"> </span> Falcon 9 B5 (reused)</li>\n",
       "<li><span style=\"padding:0 1em;background-color:Gold;border:1px solid Gold;margin-right:1em;-webkit-print-color-adjust:exact;\"> </span> <a href=\"/wiki/Falcon_Heavy\" title=\"Falcon Heavy\">Falcon Heavy</a></li></ul>\n",
       "</div>\n",
       "</div>\n",
       "<p><br/>\n",
       "</p>\n",
       "</td>\n",
       "<td class=\"col-break\">\n",
       "<h3><span class=\"mw-headline\" id=\"Launch_sites\">Launch sites</span></h3>\n",
       "<div class=\"chart noresize\" style=\"margin-top:1em;max-width:420px;\">\n",
       "<div style=\"position:relative;min-height:320px;min-width:420px;max-width:420px;\">\n",
       "<div style=\"float:right;position:relative;min-height:240px;min-width:320px;max-width:320px;border-left:1px black solid;border-bottom:1px black solid;\">\n",
       "<div style=\"position:absolute;left:3px;top:224px;height:15px;min-width:18px;max-width:18px;background-color:Goldenrod;-webkit-print-color-adjust:exact;border:1px solid Goldenrod;border-bottom:none;overflow:hidden;\" title=\"[[Cape Canaveral Space Force Station|CCSFS]], [[Cape Canaveral Space Launch Complex 40|SLC-40]]: 2\"></div>\n",
       "<div style=\"position:absolute;left:55px;top:224px;height:15px;min-width:18px;max-width:18px;background-color:Goldenrod;-webkit-print-color-adjust:exact;border:1px solid Goldenrod;border-bottom:none;overflow:hidden;\" title=\"[[Cape Canaveral Space Force Station|CCSFS]], [[Cape Canaveral Space Launch Complex 40|SLC-40]]: 2\"></div>\n",
       "<div style=\"position:absolute;left:81px;top:224px;height:15px;min-width:18px;max-width:18px;background-color:Goldenrod;-webkit-print-color-adjust:exact;border:1px solid Goldenrod;border-bottom:none;overflow:hidden;\" title=\"[[Cape Canaveral Space Force Station|CCSFS]], [[Cape Canaveral Space Launch Complex 40|SLC-40]]: 2\"></div>\n",
       "<div style=\"position:absolute;left:107px;top:192px;height:47px;min-width:18px;max-width:18px;background-color:Goldenrod;-webkit-print-color-adjust:exact;border:1px solid Goldenrod;border-bottom:none;overflow:hidden;\" title=\"[[Cape Canaveral Space Force Station|CCSFS]], [[Cape Canaveral Space Launch Complex 40|SLC-40]]: 6\"></div>\n",
       "<div style=\"position:absolute;left:133px;top:184px;height:55px;min-width:18px;max-width:18px;background-color:Goldenrod;-webkit-print-color-adjust:exact;border:1px solid Goldenrod;border-bottom:none;overflow:hidden;\" title=\"[[Cape Canaveral Space Force Station|CCSFS]], [[Cape Canaveral Space Launch Complex 40|SLC-40]]: 7\"></div>\n",
       "<div style=\"position:absolute;left:159px;top:184px;height:55px;min-width:18px;max-width:18px;background-color:Goldenrod;-webkit-print-color-adjust:exact;border:1px solid Goldenrod;border-bottom:none;overflow:hidden;\" title=\"[[Cape Canaveral Space Force Station|CCSFS]], [[Cape Canaveral Space Launch Complex 40|SLC-40]]: 7\"></div>\n",
       "<div style=\"position:absolute;left:185px;top:232px;height:7px;min-width:18px;max-width:18px;background-color:Goldenrod;-webkit-print-color-adjust:exact;border:1px solid Goldenrod;border-bottom:none;overflow:hidden;\" title=\"[[Cape Canaveral Space Force Station|CCSFS]], [[Cape Canaveral Space Launch Complex 40|SLC-40]]: 1\"></div>\n",
       "<div style=\"position:absolute;left:211px;top:144px;height:95px;min-width:18px;max-width:18px;background-color:Goldenrod;-webkit-print-color-adjust:exact;border:1px solid Goldenrod;border-bottom:none;overflow:hidden;\" title=\"[[Cape Canaveral Space Force Station|CCSFS]], [[Cape Canaveral Space Launch Complex 40|SLC-40]]: 12\"></div>\n",
       "<div style=\"position:absolute;left:237px;top:176px;height:63px;min-width:18px;max-width:18px;background-color:Goldenrod;-webkit-print-color-adjust:exact;border:1px solid Goldenrod;border-bottom:none;overflow:hidden;\" title=\"[[Cape Canaveral Space Force Station|CCSFS]], [[Cape Canaveral Space Launch Complex 40|SLC-40]]: 8\"></div>\n",
       "<div style=\"position:absolute;left:263px;top:128px;height:111px;min-width:18px;max-width:18px;background-color:Goldenrod;-webkit-print-color-adjust:exact;border:1px solid Goldenrod;border-bottom:none;overflow:hidden;\" title=\"[[Cape Canaveral Space Force Station|CCSFS]], [[Cape Canaveral Space Launch Complex 40|SLC-40]]: 14\"></div>\n",
       "<div style=\"position:absolute;left:289px;top:152px;height:87px;min-width:18px;max-width:18px;background-color:Goldenrod;-webkit-print-color-adjust:exact;border:1px solid Goldenrod;border-bottom:none;overflow:hidden;\" title=\"[[Cape Canaveral Space Force Station|CCSFS]], [[Cape Canaveral Space Launch Complex 40|SLC-40]]: 11\"></div>\n",
       "<div style=\"position:absolute;left:185px;top:136px;height:95px;min-width:18px;max-width:18px;background-color:Chocolate;-webkit-print-color-adjust:exact;border:1px solid Chocolate;border-bottom:none;overflow:hidden;\" title=\"[[Kennedy Space Center|KSC]], [[Kennedy Space Center Launch Complex 39A|LC-39A]]: 12\"></div>\n",
       "<div style=\"position:absolute;left:211px;top:120px;height:23px;min-width:18px;max-width:18px;background-color:Chocolate;-webkit-print-color-adjust:exact;border:1px solid Chocolate;border-bottom:none;overflow:hidden;\" title=\"[[Kennedy Space Center|KSC]], [[Kennedy Space Center Launch Complex 39A|LC-39A]]: 3\"></div>\n",
       "<div style=\"position:absolute;left:237px;top:152px;height:23px;min-width:18px;max-width:18px;background-color:Chocolate;-webkit-print-color-adjust:exact;border:1px solid Chocolate;border-bottom:none;overflow:hidden;\" title=\"[[Kennedy Space Center|KSC]], [[Kennedy Space Center Launch Complex 39A|LC-39A]]: 3\"></div>\n",
       "<div style=\"position:absolute;left:263px;top:40px;height:87px;min-width:18px;max-width:18px;background-color:Chocolate;-webkit-print-color-adjust:exact;border:1px solid Chocolate;border-bottom:none;overflow:hidden;\" title=\"[[Kennedy Space Center|KSC]], [[Kennedy Space Center Launch Complex 39A|LC-39A]]: 11\"></div>\n",
       "<div style=\"position:absolute;left:289px;top:96px;height:55px;min-width:18px;max-width:18px;background-color:Chocolate;-webkit-print-color-adjust:exact;border:1px solid Chocolate;border-bottom:none;overflow:hidden;\" title=\"[[Kennedy Space Center|KSC]], [[Kennedy Space Center Launch Complex 39A|LC-39A]]: 7\"></div>\n",
       "<div style=\"position:absolute;left:81px;top:216px;height:7px;min-width:18px;max-width:18px;background-color:MediumPurple;-webkit-print-color-adjust:exact;border:1px solid MediumPurple;border-bottom:none;overflow:hidden;\" title=\"[[Vandenberg Air Force Base|VAFB]], [[Vandenberg Space Launch Complex 4|SLC-4E]]: 1\"></div>\n",
       "<div style=\"position:absolute;left:159px;top:176px;height:7px;min-width:18px;max-width:18px;background-color:MediumPurple;-webkit-print-color-adjust:exact;border:1px solid MediumPurple;border-bottom:none;overflow:hidden;\" title=\"[[Vandenberg Air Force Base|VAFB]], [[Vandenberg Space Launch Complex 4|SLC-4E]]: 1\"></div>\n",
       "<div style=\"position:absolute;left:185px;top:96px;height:39px;min-width:18px;max-width:18px;background-color:MediumPurple;-webkit-print-color-adjust:exact;border:1px solid MediumPurple;border-bottom:none;overflow:hidden;\" title=\"[[Vandenberg Air Force Base|VAFB]], [[Vandenberg Space Launch Complex 4|SLC-4E]]: 5\"></div>\n",
       "<div style=\"position:absolute;left:211px;top:72px;height:47px;min-width:18px;max-width:18px;background-color:MediumPurple;-webkit-print-color-adjust:exact;border:1px solid MediumPurple;border-bottom:none;overflow:hidden;\" title=\"[[Vandenberg Air Force Base|VAFB]], [[Vandenberg Space Launch Complex 4|SLC-4E]]: 6\"></div>\n",
       "<div style=\"position:absolute;left:237px;top:136px;height:15px;min-width:18px;max-width:18px;background-color:MediumPurple;-webkit-print-color-adjust:exact;border:1px solid MediumPurple;border-bottom:none;overflow:hidden;\" title=\"[[Vandenberg Air Force Base|VAFB]], [[Vandenberg Space Launch Complex 4|SLC-4E]]: 2\"></div>\n",
       "<div style=\"position:absolute;left:263px;top:32px;height:7px;min-width:18px;max-width:18px;background-color:MediumPurple;-webkit-print-color-adjust:exact;border:1px solid MediumPurple;border-bottom:none;overflow:hidden;\" title=\"[[Vandenberg Air Force Base|VAFB]], [[Vandenberg Space Launch Complex 4|SLC-4E]]: 1\"></div>\n",
       "</div>\n",
       "<div style=\"position:absolute;height:240px;min-width:100px;max-width:100px;\">\n",
       "<div style=\"position:absolute;height=20px;text-align:right;vertical-align:middle;width:90px;top:190px;padding:0 2px\">5</div>\n",
       "<div style=\"position:absolute;height=1px;min-width:5px;top:200px;left:96px;border:1px solid black;\"></div>\n",
       "<div style=\"position:absolute;height=20px;text-align:right;vertical-align:middle;width:90px;top:150px;padding:0 2px\">10</div>\n",
       "<div style=\"position:absolute;height=1px;min-width:5px;top:160px;left:96px;border:1px solid black;\"></div>\n",
       "<div style=\"position:absolute;height=20px;text-align:right;vertical-align:middle;width:90px;top:110px;padding:0 2px\">15</div>\n",
       "<div style=\"position:absolute;height=1px;min-width:5px;top:120px;left:96px;border:1px solid black;\"></div>\n",
       "<div style=\"position:absolute;height=20px;text-align:right;vertical-align:middle;width:90px;top:70px;padding:0 2px\">20</div>\n",
       "<div style=\"position:absolute;height=1px;min-width:5px;top:80px;left:96px;border:1px solid black;\"></div>\n",
       "<div style=\"position:absolute;height=20px;text-align:right;vertical-align:middle;width:90px;top:30px;padding:0 2px\">25</div>\n",
       "<div style=\"position:absolute;height=1px;min-width:5px;top:40px;left:96px;border:1px solid black;\"></div>\n",
       "<div style=\"position:absolute;height=20px;text-align:right;vertical-align:middle;width:90px;top:-10px;padding:0 2px\">30</div>\n",
       "<div style=\"position:absolute;height=1px;min-width:5px;top:0px;left:96px;border:1px solid black;\"></div>\n",
       "</div>\n",
       "<div style=\"position:absolute;top:240px;left:100px;width:320px;\">\n",
       "<div style=\"position:absolute;left:1px;top:10px;min-width:24px;max-width:24px;text-align:center;vertical-align:top;\">'10</div>\n",
       "<div style=\"position:absolute;left:13px;height:10px;width:1px;border-left:1px solid black;\"></div>\n",
       "<div style=\"position:absolute;left:27px;top:10px;min-width:24px;max-width:24px;text-align:center;vertical-align:top;\">'11</div>\n",
       "<div style=\"position:absolute;left:39px;height:10px;width:1px;border-left:1px solid black;\"></div>\n",
       "<div style=\"position:absolute;left:53px;top:10px;min-width:24px;max-width:24px;text-align:center;vertical-align:top;\">'12</div>\n",
       "<div style=\"position:absolute;left:65px;height:10px;width:1px;border-left:1px solid black;\"></div>\n",
       "<div style=\"position:absolute;left:79px;top:10px;min-width:24px;max-width:24px;text-align:center;vertical-align:top;\">'13</div>\n",
       "<div style=\"position:absolute;left:91px;height:10px;width:1px;border-left:1px solid black;\"></div>\n",
       "<div style=\"position:absolute;left:105px;top:10px;min-width:24px;max-width:24px;text-align:center;vertical-align:top;\">'14</div>\n",
       "<div style=\"position:absolute;left:117px;height:10px;width:1px;border-left:1px solid black;\"></div>\n",
       "<div style=\"position:absolute;left:131px;top:10px;min-width:24px;max-width:24px;text-align:center;vertical-align:top;\">'15</div>\n",
       "<div style=\"position:absolute;left:143px;height:10px;width:1px;border-left:1px solid black;\"></div>\n",
       "<div style=\"position:absolute;left:157px;top:10px;min-width:24px;max-width:24px;text-align:center;vertical-align:top;\">'16</div>\n",
       "<div style=\"position:absolute;left:169px;height:10px;width:1px;border-left:1px solid black;\"></div>\n",
       "<div style=\"position:absolute;left:183px;top:10px;min-width:24px;max-width:24px;text-align:center;vertical-align:top;\">'17</div>\n",
       "<div style=\"position:absolute;left:195px;height:10px;width:1px;border-left:1px solid black;\"></div>\n",
       "<div style=\"position:absolute;left:209px;top:10px;min-width:24px;max-width:24px;text-align:center;vertical-align:top;\">'18</div>\n",
       "<div style=\"position:absolute;left:221px;height:10px;width:1px;border-left:1px solid black;\"></div>\n",
       "<div style=\"position:absolute;left:235px;top:10px;min-width:24px;max-width:24px;text-align:center;vertical-align:top;\">'19</div>\n",
       "<div style=\"position:absolute;left:247px;height:10px;width:1px;border-left:1px solid black;\"></div>\n",
       "<div style=\"position:absolute;left:261px;top:10px;min-width:24px;max-width:24px;text-align:center;vertical-align:top;\">'20</div>\n",
       "<div style=\"position:absolute;left:273px;height:10px;width:1px;border-left:1px solid black;\"></div>\n",
       "<div style=\"position:absolute;left:287px;top:10px;min-width:24px;max-width:24px;text-align:center;vertical-align:top;\">'21</div>\n",
       "<div style=\"position:absolute;left:299px;height:10px;width:1px;border-left:1px solid black;\"></div>\n",
       "</div>\n",
       "</div>\n",
       "<div>\n",
       "<ul style=\"width:100%;list-style:none;column-width:12em;\"><li><span style=\"padding:0 1em;background-color:Goldenrod;border:1px solid Goldenrod;margin-right:1em;-webkit-print-color-adjust:exact;\"> </span> <a href=\"/wiki/Cape_Canaveral_Space_Force_Station\" title=\"Cape Canaveral Space Force Station\">CCSFS</a>, <a href=\"/wiki/Cape_Canaveral_Space_Launch_Complex_40\" title=\"Cape Canaveral Space Launch Complex 40\">SLC-40</a></li>\n",
       "<li><span style=\"padding:0 1em;background-color:Chocolate;border:1px solid Chocolate;margin-right:1em;-webkit-print-color-adjust:exact;\"> </span> <a href=\"/wiki/Kennedy_Space_Center\" title=\"Kennedy Space Center\">KSC</a>, <a href=\"/wiki/Kennedy_Space_Center_Launch_Complex_39A\" title=\"Kennedy Space Center Launch Complex 39A\">LC-39A</a></li>\n",
       "<li><span style=\"padding:0 1em;background-color:MediumPurple;border:1px solid MediumPurple;margin-right:1em;-webkit-print-color-adjust:exact;\"> </span> <a class=\"mw-redirect\" href=\"/wiki/Vandenberg_Air_Force_Base\" title=\"Vandenberg Air Force Base\">VAFB</a>, <a href=\"/wiki/Vandenberg_Space_Launch_Complex_4\" title=\"Vandenberg Space Launch Complex 4\">SLC-4E</a></li></ul>\n",
       "</div>\n",
       "</div>\n",
       "<p>\n",
       "</p>\n",
       "</td></tr></tbody></table>"
      ]
     },
     "execution_count": 8,
     "metadata": {},
     "output_type": "execute_result"
    }
   ],
   "source": [
    "# Use the find_all function in the BeautifulSoup object, with element type `table`\n",
    "# Assign the result to a list called `html_tables`\n",
    "html_tables = soup.find_all(name='table')\n",
    "html_tables[0]"
   ]
  },
  {
   "cell_type": "markdown",
   "metadata": {},
   "source": [
    "Starting from the third table is our target table contains the actual launch records.\n"
   ]
  },
  {
   "cell_type": "code",
   "execution_count": 10,
   "metadata": {},
   "outputs": [],
   "source": [
    "# Let's print the third table and check its content\n",
    "first_launch_table = html_tables[2]\n"
   ]
  },
  {
   "cell_type": "markdown",
   "metadata": {},
   "source": [
    "You should able to see the columns names embedded in the table header elements `<th>` as follows:\n"
   ]
  },
  {
   "cell_type": "markdown",
   "metadata": {},
   "source": [
    "```\n",
    "<tr>\n",
    "<th scope=\"col\">Flight No.\n",
    "</th>\n",
    "<th scope=\"col\">Date and<br/>time (<a href=\"/wiki/Coordinated_Universal_Time\" title=\"Coordinated Universal Time\">UTC</a>)\n",
    "</th>\n",
    "<th scope=\"col\"><a href=\"/wiki/List_of_Falcon_9_first-stage_boosters\" title=\"List of Falcon 9 first-stage boosters\">Version,<br/>Booster</a> <sup class=\"reference\" id=\"cite_ref-booster_11-0\"><a href=\"#cite_note-booster-11\">[b]</a></sup>\n",
    "</th>\n",
    "<th scope=\"col\">Launch site\n",
    "</th>\n",
    "<th scope=\"col\">Payload<sup class=\"reference\" id=\"cite_ref-Dragon_12-0\"><a href=\"#cite_note-Dragon-12\">[c]</a></sup>\n",
    "</th>\n",
    "<th scope=\"col\">Payload mass\n",
    "</th>\n",
    "<th scope=\"col\">Orbit\n",
    "</th>\n",
    "<th scope=\"col\">Customer\n",
    "</th>\n",
    "<th scope=\"col\">Launch<br/>outcome\n",
    "</th>\n",
    "<th scope=\"col\"><a href=\"/wiki/Falcon_9_first-stage_landing_tests\" title=\"Falcon 9 first-stage landing tests\">Booster<br/>landing</a>\n",
    "</th></tr>\n",
    "```\n"
   ]
  },
  {
   "cell_type": "markdown",
   "metadata": {},
   "source": [
    "Next, we just need to iterate through the `<th>` elements and apply the provided `extract_column_from_header()` to extract column name one by one\n"
   ]
  },
  {
   "cell_type": "code",
   "execution_count": 16,
   "metadata": {},
   "outputs": [
    {
     "name": "stdout",
     "output_type": "stream",
     "text": [
      "Flight No.\n"
     ]
    }
   ],
   "source": [
    "column_names = []\n",
    "\n",
    "# Apply find_all() function with `th` element on first_launch_table\n",
    "headers = first_launch_table.find_all(name='th')\n",
    "column_names = []\n",
    "for header in headers:\n",
    "    column_name = extract_column_from_header(header)\n",
    "    if (column_name is not None) and (len(column_name) > 0):\n",
    "        column_names.append(column_name)\n",
    "# Iterate each th element and apply the provided extract_column_from_header() to get a column name\n",
    "# Append the Non-empty column name (`if name is not None and len(name) > 0`) into a list called column_names\n",
    "print(column_names[0])"
   ]
  },
  {
   "cell_type": "markdown",
   "metadata": {},
   "source": [
    "Check the extracted column names\n"
   ]
  },
  {
   "cell_type": "code",
   "execution_count": 17,
   "metadata": {},
   "outputs": [
    {
     "name": "stdout",
     "output_type": "stream",
     "text": [
      "['Flight No.', 'Date and time ( )', 'Launch site', 'Payload', 'Payload mass', 'Orbit', 'Customer', 'Launch outcome']\n"
     ]
    }
   ],
   "source": [
    "print(column_names)"
   ]
  },
  {
   "cell_type": "markdown",
   "metadata": {},
   "source": [
    "## TASK 3: Create a data frame by parsing the launch HTML tables\n"
   ]
  },
  {
   "cell_type": "markdown",
   "metadata": {},
   "source": [
    "We will create an empty dictionary with keys from the extracted column names in the previous task. Later, this dictionary will be converted into a Pandas dataframe\n"
   ]
  },
  {
   "cell_type": "code",
   "execution_count": 18,
   "metadata": {},
   "outputs": [],
   "source": [
    "launch_dict= dict.fromkeys(column_names)\n",
    "\n",
    "# Remove an irrelvant column\n",
    "del launch_dict['Date and time ( )']\n",
    "\n",
    "# Let's initial the launch_dict with each value to be an empty list\n",
    "launch_dict['Flight No.'] = []\n",
    "launch_dict['Launch site'] = []\n",
    "launch_dict['Payload'] = []\n",
    "launch_dict['Payload mass'] = []\n",
    "launch_dict['Orbit'] = []\n",
    "launch_dict['Customer'] = []\n",
    "launch_dict['Launch outcome'] = []\n",
    "# Added some new columns\n",
    "launch_dict['Version Booster']=[]\n",
    "launch_dict['Booster landing']=[]\n",
    "launch_dict['Date']=[]\n",
    "launch_dict['Time']=[]"
   ]
  },
  {
   "cell_type": "markdown",
   "metadata": {},
   "source": [
    "Next, we just need to fill up the `launch_dict` with launch records extracted from table rows.\n"
   ]
  },
  {
   "cell_type": "markdown",
   "metadata": {},
   "source": [
    "Usually, HTML tables in Wiki pages are likely to contain unexpected annotations and other types of noises, such as reference links `B0004.1[8]`, missing values `N/A [e]`, inconsistent formatting, etc.\n"
   ]
  },
  {
   "cell_type": "markdown",
   "metadata": {},
   "source": [
    "To simplify the parsing process, we have provided an incomplete code snippet below to help you to fill up the `launch_dict`. Please complete the following code snippet with TODOs or you can choose to write your own logic to parse all launch tables:\n"
   ]
  },
  {
   "cell_type": "code",
   "execution_count": 19,
   "metadata": {},
   "outputs": [
    {
     "name": "stdout",
     "output_type": "stream",
     "text": [
      "F9 v1.0B0003.1\n",
      "F9 v1.0B0004.1\n",
      "F9 v1.0B0005.1\n",
      "F9 v1.0B0006.1\n",
      "F9 v1.0B0007.1\n",
      "F9 v1.1B1003\n",
      "F9 v1.1\n",
      "F9 v1.1\n",
      "F9 v1.1\n",
      "F9 v1.1\n",
      "F9 v1.1\n",
      "F9 v1.1\n",
      "F9 v1.1\n",
      "F9 v1.1\n",
      "F9 v1.1\n",
      "F9 v1.1\n",
      "F9 v1.1\n",
      "F9 v1.1\n",
      "F9 v1.1\n",
      "F9 FT\n",
      "F9 v1.1\n",
      "F9 FT\n",
      "F9 FT\n",
      "F9 FT\n",
      "F9 FT\n",
      "F9 FT\n",
      "F9 FT\n",
      "F9 FT\n",
      "F9 FT\n",
      "F9 FT\n",
      "F9 FT\n",
      "F9 FT♺\n",
      "F9 FT\n",
      "F9 FT\n",
      "F9 FT\n",
      "F9 FTB1029.2\n",
      "F9 FT\n",
      "F9 FT\n",
      "F9 B4\n",
      "F9 FT\n",
      "F9 B4\n",
      "F9 B4\n",
      "F9 FTB1031.2\n",
      "F9 B4\n",
      "F9 FTB1035.2\n",
      "F9 FTB1036.2\n",
      "F9 B4\n",
      "F9 FTB1032.2\n",
      "F9 FTB1038.2\n",
      "F9 B4\n",
      "F9 B4B1041.2\n",
      "F9 B4B1039.2\n",
      "F9 B4\n",
      "F9 B5B1046.1\n",
      "F9 B4B1043.2\n",
      "F9 B4B1040.2\n",
      "F9 B4B1045.2\n",
      "F9 B5\n",
      "F9 B5B1048\n",
      "F9 B5B1046.2\n",
      "F9 B5\n",
      "F9 B5B1048.2\n",
      "F9 B5B1047.2\n",
      "F9 B5B1046.3\n",
      "F9 B5\n",
      "F9 B5\n",
      "F9 B5B1049.2\n",
      "F9 B5B1048.3\n",
      "F9 B5[268]\n",
      "F9 B5\n",
      "F9 B5B1049.3\n",
      "F9 B5B1051.2\n",
      "F9 B5B1056.2\n",
      "F9 B5B1047.3\n",
      "F9 B5\n",
      "F9 B5\n",
      "F9 B5B1056.3\n",
      "F9 B5\n",
      "F9 B5\n",
      "F9 B5\n",
      "F9 B5\n",
      "F9 B5\n",
      "F9 B5\n",
      "F9 B5\n",
      "F9 B5\n",
      "F9 B5\n",
      "F9 B5\n",
      "F9 B5\n",
      "F9 B5B1058.2\n",
      "F9 B5\n",
      "F9 B5B1049.6\n",
      "F9 B5\n",
      "F9 B5B1060.2\n",
      "F9 B5B1058.3\n",
      "F9 B5B1051.6\n",
      "F9 B5\n",
      "F9 B5\n",
      "F9 B5\n",
      "F9 B5\n",
      "F9 B5 ♺\n",
      "F9 B5 ♺\n",
      "F9 B5 ♺\n",
      "F9 B5 ♺\n",
      "F9 B5\n",
      "F9 B5B1051.8\n",
      "F9 B5B1058.5\n"
     ]
    },
    {
     "ename": "AttributeError",
     "evalue": "'NoneType' object has no attribute 'string'",
     "output_type": "error",
     "traceback": [
      "\u001b[0;31m---------------------------------------------------------------------------\u001b[0m",
      "\u001b[0;31mAttributeError\u001b[0m                            Traceback (most recent call last)",
      "\u001b[0;32m/tmp/ipykernel_68/354354048.py\u001b[0m in \u001b[0;36m<module>\u001b[0;34m\u001b[0m\n\u001b[1;32m     60\u001b[0m             \u001b[0;31m# Customer\u001b[0m\u001b[0;34m\u001b[0m\u001b[0;34m\u001b[0m\u001b[0;34m\u001b[0m\u001b[0m\n\u001b[1;32m     61\u001b[0m             \u001b[0;31m# TODO: Append the customer into launch_dict with key `Customer`\u001b[0m\u001b[0;34m\u001b[0m\u001b[0;34m\u001b[0m\u001b[0;34m\u001b[0m\u001b[0m\n\u001b[0;32m---> 62\u001b[0;31m             \u001b[0mcustomer\u001b[0m \u001b[0;34m=\u001b[0m \u001b[0mrow\u001b[0m\u001b[0;34m[\u001b[0m\u001b[0;36m6\u001b[0m\u001b[0;34m]\u001b[0m\u001b[0;34m.\u001b[0m\u001b[0ma\u001b[0m\u001b[0;34m.\u001b[0m\u001b[0mstring\u001b[0m\u001b[0;34m\u001b[0m\u001b[0;34m\u001b[0m\u001b[0m\n\u001b[0m\u001b[1;32m     63\u001b[0m             \u001b[0;31m#print(customer)\u001b[0m\u001b[0;34m\u001b[0m\u001b[0;34m\u001b[0m\u001b[0;34m\u001b[0m\u001b[0m\n\u001b[1;32m     64\u001b[0m \u001b[0;34m\u001b[0m\u001b[0m\n",
      "\u001b[0;31mAttributeError\u001b[0m: 'NoneType' object has no attribute 'string'"
     ]
    }
   ],
   "source": [
    "extracted_row = 0\n",
    "#Extract each table \n",
    "for table_number,table in enumerate(soup.find_all('table',\"wikitable plainrowheaders collapsible\")):\n",
    "   # get table row \n",
    "    for rows in table.find_all(\"tr\"):\n",
    "        #check to see if first table heading is as number corresponding to launch a number \n",
    "        if rows.th:\n",
    "            if rows.th.string:\n",
    "                flight_number=rows.th.string.strip()\n",
    "                flag=flight_number.isdigit()\n",
    "        else:\n",
    "            flag=False\n",
    "        #get table element \n",
    "        row=rows.find_all('td')\n",
    "        #if it is number save cells in a dictonary \n",
    "        if flag:\n",
    "            extracted_row += 1\n",
    "            # Flight Number value\n",
    "            # TODO: Append the flight_number into launch_dict with key `Flight No.`\n",
    "            #print(flight_number)\n",
    "            datatimelist=date_time(row[0])\n",
    "            \n",
    "            # Date value\n",
    "            # TODO: Append the date into launch_dict with key `Date`\n",
    "            date = datatimelist[0].strip(',')\n",
    "            #print(date)\n",
    "            \n",
    "            # Time value\n",
    "            # TODO: Append the time into launch_dict with key `Time`\n",
    "            time = datatimelist[1]\n",
    "            #print(time)\n",
    "              \n",
    "            # Booster version\n",
    "            # TODO: Append the bv into launch_dict with key `Version Booster`\n",
    "            bv=booster_version(row[1])\n",
    "            if not(bv):\n",
    "                bv=row[1].a.string\n",
    "            print(bv)\n",
    "            \n",
    "            # Launch Site\n",
    "            # TODO: Append the bv into launch_dict with key `Launch Site`\n",
    "            launch_site = row[2].a.string\n",
    "            #print(launch_site)\n",
    "            \n",
    "            # Payload\n",
    "            # TODO: Append the payload into launch_dict with key `Payload`\n",
    "            payload = row[3].a.string\n",
    "            #print(payload)\n",
    "            \n",
    "            # Payload Mass\n",
    "            # TODO: Append the payload_mass into launch_dict with key `Payload mass`\n",
    "            payload_mass = get_mass(row[4])\n",
    "            #print(payload)\n",
    "            \n",
    "            # Orbit\n",
    "            # TODO: Append the orbit into launch_dict with key `Orbit`\n",
    "            orbit = row[5].a.string\n",
    "            #print(orbit)\n",
    "            \n",
    "            # Customer\n",
    "            # TODO: Append the customer into launch_dict with key `Customer`\n",
    "            customer = row[6].a.string\n",
    "            #print(customer)\n",
    "            \n",
    "            # Launch outcome\n",
    "            # TODO: Append the launch_outcome into launch_dict with key `Launch outcome`\n",
    "            launch_outcome = list(row[7].strings)[0]\n",
    "            #print(launch_outcome)\n",
    "            \n",
    "            # Booster landing\n",
    "            # TODO: Append the launch_outcome into launch_dict with key `Booster landing`\n",
    "            booster_landing = landing_status(row[8])\n",
    "            #print(booster_landing)\n",
    "            "
   ]
  },
  {
   "cell_type": "markdown",
   "metadata": {},
   "source": [
    "After you have fill in the parsed launch record values into `launch_dict`, you can create a dataframe from it.\n"
   ]
  },
  {
   "cell_type": "code",
   "execution_count": 20,
   "metadata": {},
   "outputs": [
    {
     "name": "stderr",
     "output_type": "stream",
     "text": [
      "/home/jupyterlab/conda/envs/python/lib/python3.7/site-packages/ipykernel_launcher.py:1: DeprecationWarning: The default dtype for empty Series will be 'object' instead of 'float64' in a future version. Specify a dtype explicitly to silence this warning.\n",
      "  \"\"\"Entry point for launching an IPython kernel.\n"
     ]
    }
   ],
   "source": [
    "df= pd.DataFrame({ key:pd.Series(value) for key, value in launch_dict.items() })"
   ]
  },
  {
   "cell_type": "code",
   "execution_count": 21,
   "metadata": {
    "tags": []
   },
   "outputs": [],
   "source": [
    "tables = pd.read_html(static_url)"
   ]
  },
  {
   "cell_type": "code",
   "execution_count": 24,
   "metadata": {
    "tags": []
   },
   "outputs": [
    {
     "data": {
      "text/html": [
       "<div>\n",
       "<style scoped>\n",
       "    .dataframe tbody tr th:only-of-type {\n",
       "        vertical-align: middle;\n",
       "    }\n",
       "\n",
       "    .dataframe tbody tr th {\n",
       "        vertical-align: top;\n",
       "    }\n",
       "\n",
       "    .dataframe thead th {\n",
       "        text-align: right;\n",
       "    }\n",
       "</style>\n",
       "<table border=\"1\" class=\"dataframe\">\n",
       "  <thead>\n",
       "    <tr style=\"text-align: right;\">\n",
       "      <th></th>\n",
       "      <th>Flight No.</th>\n",
       "      <th>Date andtime (UTC)</th>\n",
       "      <th>Version,Booster [b]</th>\n",
       "      <th>Launch site</th>\n",
       "      <th>Payload[c]</th>\n",
       "      <th>Payload mass</th>\n",
       "      <th>Orbit</th>\n",
       "      <th>Customer</th>\n",
       "      <th>Launchoutcome</th>\n",
       "      <th>Boosterlanding</th>\n",
       "    </tr>\n",
       "  </thead>\n",
       "  <tbody>\n",
       "    <tr>\n",
       "      <th>0</th>\n",
       "      <td>1</td>\n",
       "      <td>4 June 2010,18:45</td>\n",
       "      <td>F9 v1.0[7]B0003.1[8]</td>\n",
       "      <td>CCAFS,SLC-40</td>\n",
       "      <td>Dragon Spacecraft Qualification Unit</td>\n",
       "      <td>NaN</td>\n",
       "      <td>LEO</td>\n",
       "      <td>SpaceX</td>\n",
       "      <td>Success</td>\n",
       "      <td>Failure[9][10](parachute)</td>\n",
       "    </tr>\n",
       "    <tr>\n",
       "      <th>1</th>\n",
       "      <td>1</td>\n",
       "      <td>First flight of Falcon 9 v1.0.[11] Used a boil...</td>\n",
       "      <td>First flight of Falcon 9 v1.0.[11] Used a boil...</td>\n",
       "      <td>First flight of Falcon 9 v1.0.[11] Used a boil...</td>\n",
       "      <td>First flight of Falcon 9 v1.0.[11] Used a boil...</td>\n",
       "      <td>First flight of Falcon 9 v1.0.[11] Used a boil...</td>\n",
       "      <td>First flight of Falcon 9 v1.0.[11] Used a boil...</td>\n",
       "      <td>First flight of Falcon 9 v1.0.[11] Used a boil...</td>\n",
       "      <td>First flight of Falcon 9 v1.0.[11] Used a boil...</td>\n",
       "      <td>First flight of Falcon 9 v1.0.[11] Used a boil...</td>\n",
       "    </tr>\n",
       "    <tr>\n",
       "      <th>2</th>\n",
       "      <td>2</td>\n",
       "      <td>8 December 2010,15:43[13]</td>\n",
       "      <td>F9 v1.0[7]B0004.1[8]</td>\n",
       "      <td>CCAFS,SLC-40</td>\n",
       "      <td>Dragon demo flight C1(Dragon C101)</td>\n",
       "      <td>NaN</td>\n",
       "      <td>LEO (ISS)</td>\n",
       "      <td>.mw-parser-output .plainlist ol,.mw-parser-out...</td>\n",
       "      <td>Success[9]</td>\n",
       "      <td>Failure[9][14](parachute)</td>\n",
       "    </tr>\n",
       "    <tr>\n",
       "      <th>3</th>\n",
       "      <td>2</td>\n",
       "      <td>Maiden flight of Dragon capsule, consisting of...</td>\n",
       "      <td>Maiden flight of Dragon capsule, consisting of...</td>\n",
       "      <td>Maiden flight of Dragon capsule, consisting of...</td>\n",
       "      <td>Maiden flight of Dragon capsule, consisting of...</td>\n",
       "      <td>Maiden flight of Dragon capsule, consisting of...</td>\n",
       "      <td>Maiden flight of Dragon capsule, consisting of...</td>\n",
       "      <td>Maiden flight of Dragon capsule, consisting of...</td>\n",
       "      <td>Maiden flight of Dragon capsule, consisting of...</td>\n",
       "      <td>Maiden flight of Dragon capsule, consisting of...</td>\n",
       "    </tr>\n",
       "    <tr>\n",
       "      <th>4</th>\n",
       "      <td>3</td>\n",
       "      <td>22 May 2012,07:44[17]</td>\n",
       "      <td>F9 v1.0[7]B0005.1[8]</td>\n",
       "      <td>CCAFS,SLC-40</td>\n",
       "      <td>Dragon demo flight C2+[18](Dragon C102)</td>\n",
       "      <td>525 kg (1,157 lb)[19]</td>\n",
       "      <td>LEO (ISS)</td>\n",
       "      <td>NASA (COTS)</td>\n",
       "      <td>Success[20]</td>\n",
       "      <td>No attempt</td>\n",
       "    </tr>\n",
       "  </tbody>\n",
       "</table>\n",
       "</div>"
      ],
      "text/plain": [
       "   Flight No.                                 Date andtime (UTC)  \\\n",
       "0           1                                  4 June 2010,18:45   \n",
       "1           1  First flight of Falcon 9 v1.0.[11] Used a boil...   \n",
       "2           2                          8 December 2010,15:43[13]   \n",
       "3           2  Maiden flight of Dragon capsule, consisting of...   \n",
       "4           3                              22 May 2012,07:44[17]   \n",
       "\n",
       "                                 Version,Booster [b]  \\\n",
       "0                               F9 v1.0[7]B0003.1[8]   \n",
       "1  First flight of Falcon 9 v1.0.[11] Used a boil...   \n",
       "2                               F9 v1.0[7]B0004.1[8]   \n",
       "3  Maiden flight of Dragon capsule, consisting of...   \n",
       "4                               F9 v1.0[7]B0005.1[8]   \n",
       "\n",
       "                                         Launch site  \\\n",
       "0                                       CCAFS,SLC-40   \n",
       "1  First flight of Falcon 9 v1.0.[11] Used a boil...   \n",
       "2                                       CCAFS,SLC-40   \n",
       "3  Maiden flight of Dragon capsule, consisting of...   \n",
       "4                                       CCAFS,SLC-40   \n",
       "\n",
       "                                          Payload[c]  \\\n",
       "0               Dragon Spacecraft Qualification Unit   \n",
       "1  First flight of Falcon 9 v1.0.[11] Used a boil...   \n",
       "2                 Dragon demo flight C1(Dragon C101)   \n",
       "3  Maiden flight of Dragon capsule, consisting of...   \n",
       "4            Dragon demo flight C2+[18](Dragon C102)   \n",
       "\n",
       "                                        Payload mass  \\\n",
       "0                                                NaN   \n",
       "1  First flight of Falcon 9 v1.0.[11] Used a boil...   \n",
       "2                                                NaN   \n",
       "3  Maiden flight of Dragon capsule, consisting of...   \n",
       "4                              525 kg (1,157 lb)[19]   \n",
       "\n",
       "                                               Orbit  \\\n",
       "0                                                LEO   \n",
       "1  First flight of Falcon 9 v1.0.[11] Used a boil...   \n",
       "2                                          LEO (ISS)   \n",
       "3  Maiden flight of Dragon capsule, consisting of...   \n",
       "4                                          LEO (ISS)   \n",
       "\n",
       "                                            Customer  \\\n",
       "0                                             SpaceX   \n",
       "1  First flight of Falcon 9 v1.0.[11] Used a boil...   \n",
       "2  .mw-parser-output .plainlist ol,.mw-parser-out...   \n",
       "3  Maiden flight of Dragon capsule, consisting of...   \n",
       "4                                        NASA (COTS)   \n",
       "\n",
       "                                       Launchoutcome  \\\n",
       "0                                            Success   \n",
       "1  First flight of Falcon 9 v1.0.[11] Used a boil...   \n",
       "2                                         Success[9]   \n",
       "3  Maiden flight of Dragon capsule, consisting of...   \n",
       "4                                        Success[20]   \n",
       "\n",
       "                                      Boosterlanding  \n",
       "0                          Failure[9][10](parachute)  \n",
       "1  First flight of Falcon 9 v1.0.[11] Used a boil...  \n",
       "2                          Failure[9][14](parachute)  \n",
       "3  Maiden flight of Dragon capsule, consisting of...  \n",
       "4                                         No attempt  "
      ]
     },
     "execution_count": 24,
     "metadata": {},
     "output_type": "execute_result"
    }
   ],
   "source": [
    "df = tables[2]\n",
    "df.head()"
   ]
  },
  {
   "cell_type": "markdown",
   "metadata": {},
   "source": [
    "We can now export it to a <b>CSV</b> for the next section, but to make the answers consistent and in case you have difficulties finishing this lab. \n",
    "\n",
    "Following labs will be using a provided dataset to make each lab independent. \n"
   ]
  },
  {
   "cell_type": "markdown",
   "metadata": {},
   "source": [
    "<code>df.to_csv('spacex_web_scraped.csv', index=False)</code>\n"
   ]
  },
  {
   "cell_type": "markdown",
   "metadata": {},
   "source": [
    "## Authors\n"
   ]
  },
  {
   "cell_type": "markdown",
   "metadata": {},
   "source": [
    "<a href=\"https://www.linkedin.com/in/yan-luo-96288783/\">Yan Luo</a>\n"
   ]
  },
  {
   "cell_type": "markdown",
   "metadata": {},
   "source": [
    "<a href=\"https://www.linkedin.com/in/nayefaboutayoun/\">Nayef Abou Tayoun</a>\n"
   ]
  },
  {
   "cell_type": "markdown",
   "metadata": {},
   "source": [
    "## Change Log\n"
   ]
  },
  {
   "cell_type": "markdown",
   "metadata": {},
   "source": [
    "| Date (YYYY-MM-DD) | Version | Changed By | Change Description      |\n",
    "| ----------------- | ------- | ---------- | ----------------------- |\n",
    "| 2021-06-09        | 1.0     | Yan Luo    | Tasks updates           |\n",
    "| 2020-11-10        | 1.0     | Nayef      | Created the initial version |\n"
   ]
  },
  {
   "cell_type": "markdown",
   "metadata": {},
   "source": [
    "Copyright © 2021 IBM Corporation. All rights reserved.\n"
   ]
  }
 ],
 "metadata": {
  "kernelspec": {
   "display_name": "Python",
   "language": "python",
   "name": "conda-env-python-py"
  },
  "language_info": {
   "codemirror_mode": {
    "name": "ipython",
    "version": 3
   },
   "file_extension": ".py",
   "mimetype": "text/x-python",
   "name": "python",
   "nbconvert_exporter": "python",
   "pygments_lexer": "ipython3",
   "version": "3.7.12"
  }
 },
 "nbformat": 4,
 "nbformat_minor": 4
}
